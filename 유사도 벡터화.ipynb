{
 "cells": [
  {
   "cell_type": "code",
   "execution_count": 14,
   "metadata": {},
   "outputs": [],
   "source": [
    "grid_size = 5\n",
    "start_lat = 35.951225\n",
    "start_lon = 126.677630592098\n",
    "\n",
    "end_lat = 35.94053805\n",
    "end_lon = 126.689017999998\n",
    "\n",
    "\n",
    "result = (end_lon - start_lon) / grid_size\n",
    "result1 = (start_lat - end_lat) / grid_size"
   ]
  },
  {
   "cell_type": "code",
   "execution_count": 15,
   "metadata": {},
   "outputs": [
    {
     "name": "stdout",
     "output_type": "stream",
     "text": [
      "[126.677630592098, 126.67990807367799, 126.68218555525799, 126.68446303683798, 126.68674051841798, 126.68901799999797]\n",
      "[35.951225, 35.94908761, 35.94695022, 35.94481283, 35.942675439999995, 35.940538049999994]\n"
     ]
    }
   ],
   "source": [
    "x = []\n",
    "y = []\n",
    "x.append(start_lon)\n",
    "y.append(start_lat)\n",
    "for i in range(grid_size):\n",
    "    x.append(x[i] + result)\n",
    "    y.append(y[i] - result1)\n",
    "print(x)\n",
    "print(y)"
   ]
  },
  {
   "cell_type": "code",
   "execution_count": 30,
   "metadata": {},
   "outputs": [],
   "source": [
    "def get_allpatten(df, grid_size):\n",
    "    patten = []\n",
    "    for i in range(len(df)):\n",
    "        for k in range(grid_size):\n",
    "            for j in range(grid_size):\n",
    "                if x[j] <=  df['lon'][i] <= x[j+1] and y[k+1] <=  df['lat'][i] <= y[k]:\n",
    "                    patten.append( grid_size*k + j+1)\n",
    "    return patten"
   ]
  },
  {
   "cell_type": "code",
   "execution_count": 28,
   "metadata": {},
   "outputs": [],
   "source": [
    "def get_newpatten(patten):\n",
    "    new_patten = []\n",
    "    for i in patten:\n",
    "        if i not in new_patten:\n",
    "            new_patten.append(i)\n",
    "    return new_patten"
   ]
  },
  {
   "cell_type": "code",
   "execution_count": 37,
   "metadata": {},
   "outputs": [],
   "source": [
    "def get_3gridpatten(new_patten):\n",
    "    all_patten=[]\n",
    "    for i in range(len(new_patten)):\n",
    "        if i == len(new_patten)-2:\n",
    "            break\n",
    "        else:\n",
    "            p = [new_patten[i], new_patten[i+1], new_patten[i+2]]\n",
    "            all_patten.append(p)\n",
    "    return all_patten"
   ]
  },
  {
   "cell_type": "code",
   "execution_count": 60,
   "metadata": {},
   "outputs": [],
   "source": [
    "def get_vector(userid, other):\n",
    "    cnt = 0\n",
    "    sim = []\n",
    "    for i in range(len(other)):\n",
    "        cnt = 0\n",
    "        for j in range(len(userid)):\n",
    "            if sorted(other[i]) == sorted(userid[j]):\n",
    "                cnt+=1\n",
    "        sim.append(cnt)\n",
    "    return sim"
   ]
  },
  {
   "cell_type": "code",
   "execution_count": 69,
   "metadata": {},
   "outputs": [],
   "source": [
    "def get_patten(df, grid_size):\n",
    "    patten = []\n",
    "    new_patten = []\n",
    "    all_patten=[]\n",
    "    for i in range(len(df)):\n",
    "        for k in range(grid_size):\n",
    "            for j in range(grid_size):\n",
    "                if x[j] <=  df['lon'][i] <= x[j+1] and y[k+1] <=  df['lat'][i] <= y[k]:\n",
    "                    patten.append( grid_size*k + j+1)\n",
    "    for i in patten:\n",
    "        if i not in new_patten:\n",
    "            new_patten.append(i)\n",
    "    \n",
    "    for i in range(len(new_patten)):\n",
    "        if i == len(new_patten)-2:\n",
    "            break\n",
    "        else:\n",
    "            p = [new_patten[i], new_patten[i+1], new_patten[i+2]]\n",
    "            all_patten.append(p)\n",
    "    return all_patten"
   ]
  },
  {
   "cell_type": "code",
   "execution_count": 70,
   "metadata": {},
   "outputs": [],
   "source": [
    "import pymssql\n",
    "from math import *\n",
    "import pandas as pd\n",
    "import numpy as np \n",
    "\n",
    "# DB 서버 주소\n",
    "server = '203.234.62.143'\n",
    "# 데이터 베이스 이름\n",
    "database = 'test'\n",
    "# 접속 유저명\n",
    "username = 'sojin'\n",
    "# 접속 유저 패스워드\n",
    "password = '1234'\n",
    "\n",
    "conn = pymssql.connect(server , username, password, database)\n",
    "curs = conn.cursor()\n",
    "\n",
    "#curs.execute()\n",
    "sql = \"SELECT *  FROM lifelog_manual where userid='GAH0001' order by time asc\"\n",
    "df = pd.read_sql(sql, con = conn)\n",
    "patten = get_patten(df, grid_size)"
   ]
  },
  {
   "cell_type": "code",
   "execution_count": 72,
   "metadata": {},
   "outputs": [
    {
     "data": {
      "text/plain": [
       "[[13, 14, 9],\n",
       " [14, 9, 4],\n",
       " [9, 4, 18],\n",
       " [4, 18, 8],\n",
       " [18, 8, 3],\n",
       " [8, 3, 15],\n",
       " [3, 15, 12],\n",
       " [15, 12, 19],\n",
       " [12, 19, 20],\n",
       " [19, 20, 10],\n",
       " [20, 10, 17],\n",
       " [10, 17, 7],\n",
       " [17, 7, 22],\n",
       " [7, 22, 24],\n",
       " [22, 24, 23],\n",
       " [24, 23, 11],\n",
       " [23, 11, 5]]"
      ]
     },
     "execution_count": 72,
     "metadata": {},
     "output_type": "execute_result"
    }
   ],
   "source": [
    "patten"
   ]
  },
  {
   "cell_type": "code",
   "execution_count": 74,
   "metadata": {},
   "outputs": [
    {
     "name": "stdout",
     "output_type": "stream",
     "text": [
      "GAH0002 [0, 0, 0, 0, 0, 1, 0, 0, 0, 0, 0, 0, 0, 0, 0, 0, 0, 0, 0]\n",
      "GAH0003 [0, 0, 1, 0, 0, 0, 0, 0, 1, 0, 0, 0, 0, 1, 0, 0, 0, 0]\n",
      "GAH0004 [0, 0, 0, 0, 0, 0, 0, 0, 0, 0, 0, 0, 0, 0, 0, 0, 0, 0, 0, 0]\n"
     ]
    }
   ],
   "source": [
    "#curs.execute()\n",
    "sql = \"SELECT DISTINCT userid FROM lifelog_manual order by userid asc\"\n",
    "userid_df = pd.read_sql(sql, con = conn)\n",
    "\n",
    "for i in range(1,4):\n",
    "    sql = \"SELECT *  FROM lifelog_manual where userid='\" + userid_df.iloc[i][0] + \"' order by time asc\"\n",
    "    df = pd.read_sql(sql, con = conn)\n",
    "    other_patten = get_patten(df, grid_size)\n",
    "    vector = get_vector(patten, other_patten)\n",
    "    print(userid_df.iloc[i][0], vector)\n",
    "    \n",
    "conn.close()"
   ]
  },
  {
   "cell_type": "code",
   "execution_count": null,
   "metadata": {},
   "outputs": [],
   "source": []
  }
 ],
 "metadata": {
  "kernelspec": {
   "display_name": "Python 3",
   "language": "python",
   "name": "python3"
  },
  "language_info": {
   "codemirror_mode": {
    "name": "ipython",
    "version": 3
   },
   "file_extension": ".py",
   "mimetype": "text/x-python",
   "name": "python",
   "nbconvert_exporter": "python",
   "pygments_lexer": "ipython3",
   "version": "3.7.5"
  }
 },
 "nbformat": 4,
 "nbformat_minor": 2
}
