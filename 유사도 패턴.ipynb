{
 "cells": [
  {
   "cell_type": "code",
   "execution_count": 1,
   "metadata": {},
   "outputs": [],
   "source": [
    "grid_size = 5\n",
    "start_lat = 35.951225\n",
    "start_lon = 126.677630592098\n",
    "\n",
    "end_lat = 35.94053805\n",
    "end_lon = 126.689017999998\n",
    "\n",
    "\n",
    "result = (end_lon - start_lon) / grid_size\n",
    "result1 = (start_lat - end_lat) / grid_size"
   ]
  },
  {
   "cell_type": "code",
   "execution_count": 2,
   "metadata": {},
   "outputs": [
    {
     "name": "stdout",
     "output_type": "stream",
     "text": [
      "[126.677630592098, 126.67990807367799, 126.68218555525799, 126.68446303683798, 126.68674051841798, 126.68901799999797]\n",
      "[35.951225, 35.94908761, 35.94695022, 35.94481283, 35.942675439999995, 35.940538049999994]\n"
     ]
    }
   ],
   "source": [
    "x = []\n",
    "y = []\n",
    "x.append(start_lon)\n",
    "y.append(start_lat)\n",
    "for i in range(grid_size):\n",
    "    x.append(x[i] + result)\n",
    "    y.append(y[i] - result1)\n",
    "print(x)\n",
    "print(y)"
   ]
  },
  {
   "cell_type": "code",
   "execution_count": 3,
   "metadata": {},
   "outputs": [],
   "source": [
    "import pymssql\n",
    "from math import *\n",
    "import pandas as pd\n",
    "import numpy as np \n",
    "\n",
    "# DB 서버 주소\n",
    "server = '203.234.62.143'\n",
    "# 데이터 베이스 이름\n",
    "database = 'DSEM-Traj2018'\n",
    "# 접속 유저명\n",
    "username = 'sojin'\n",
    "# 접속 유저 패스워드\n",
    "password = '1234'\n",
    "\n",
    "conn = pymssql.connect(server , username, password, database)\n",
    "curs = conn.cursor()\n",
    "\n",
    "#curs.execute()\n",
    "\n",
    "#sql = 'SELECT TOP (1000) *  FROM lifelog_manual order by time asc'\n",
    "sql = \"SELECT *  FROM lifelog_manual where userid='GAH0001' order by time asc\"\n",
    "\n",
    "df1 = pd.read_sql(sql, con = conn)\n",
    "\n",
    "sql = \"SELECT *  FROM lifelog_manual where userid='GAH0002' order by time asc\"\n",
    "\n",
    "df2 = pd.read_sql(sql, con = conn)\n",
    "\n",
    "sql = \"SELECT *  FROM lifelog_manual where userid='GAH0003' order by time asc\"\n",
    "\n",
    "df3 = pd.read_sql(sql, con = conn)\n",
    "\n",
    "conn.close()"
   ]
  },
  {
   "cell_type": "code",
   "execution_count": 4,
   "metadata": {
    "scrolled": true
   },
   "outputs": [
    {
     "data": {
      "text/html": [
       "<div>\n",
       "<style scoped>\n",
       "    .dataframe tbody tr th:only-of-type {\n",
       "        vertical-align: middle;\n",
       "    }\n",
       "\n",
       "    .dataframe tbody tr th {\n",
       "        vertical-align: top;\n",
       "    }\n",
       "\n",
       "    .dataframe thead th {\n",
       "        text-align: right;\n",
       "    }\n",
       "</style>\n",
       "<table border=\"1\" class=\"dataframe\">\n",
       "  <thead>\n",
       "    <tr style=\"text-align: right;\">\n",
       "      <th></th>\n",
       "      <th>id</th>\n",
       "      <th>userid</th>\n",
       "      <th>time</th>\n",
       "      <th>set_id</th>\n",
       "      <th>set_seq</th>\n",
       "      <th>x</th>\n",
       "      <th>y</th>\n",
       "      <th>z</th>\n",
       "      <th>HR</th>\n",
       "      <th>lat</th>\n",
       "      <th>lon</th>\n",
       "      <th>alt</th>\n",
       "      <th>acttype</th>\n",
       "      <th>actaccu</th>\n",
       "    </tr>\n",
       "  </thead>\n",
       "  <tbody>\n",
       "    <tr>\n",
       "      <th>0</th>\n",
       "      <td>26</td>\n",
       "      <td>GAH0001</td>\n",
       "      <td>2018-07-11 23:15:56</td>\n",
       "      <td>GAH0001-2018-07-11-0000001</td>\n",
       "      <td>1</td>\n",
       "      <td>0.270636</td>\n",
       "      <td>-0.729696</td>\n",
       "      <td>0.032239</td>\n",
       "      <td>0</td>\n",
       "      <td>35.945528</td>\n",
       "      <td>126.683223</td>\n",
       "      <td>0.000000</td>\n",
       "      <td>unknown</td>\n",
       "      <td>unknown</td>\n",
       "    </tr>\n",
       "    <tr>\n",
       "      <th>1</th>\n",
       "      <td>29</td>\n",
       "      <td>GAH0001</td>\n",
       "      <td>2018-07-11 23:16:11</td>\n",
       "      <td>GAH0001-2018-07-11-0000001</td>\n",
       "      <td>2</td>\n",
       "      <td>0.231820</td>\n",
       "      <td>3.563033</td>\n",
       "      <td>-1.975855</td>\n",
       "      <td>81</td>\n",
       "      <td>35.945509</td>\n",
       "      <td>126.683209</td>\n",
       "      <td>0.000000</td>\n",
       "      <td>unknown</td>\n",
       "      <td>unknown</td>\n",
       "    </tr>\n",
       "    <tr>\n",
       "      <th>2</th>\n",
       "      <td>32</td>\n",
       "      <td>GAH0001</td>\n",
       "      <td>2018-07-11 23:16:26</td>\n",
       "      <td>GAH0001-2018-07-11-0000001</td>\n",
       "      <td>3</td>\n",
       "      <td>1.265328</td>\n",
       "      <td>2.628004</td>\n",
       "      <td>-2.712451</td>\n",
       "      <td>83</td>\n",
       "      <td>35.945468</td>\n",
       "      <td>126.683178</td>\n",
       "      <td>0.000000</td>\n",
       "      <td>unknown</td>\n",
       "      <td>unknown</td>\n",
       "    </tr>\n",
       "    <tr>\n",
       "      <th>3</th>\n",
       "      <td>35</td>\n",
       "      <td>GAH0001</td>\n",
       "      <td>2018-07-11 23:16:41</td>\n",
       "      <td>GAH0001-2018-07-11-0000001</td>\n",
       "      <td>4</td>\n",
       "      <td>2.022355</td>\n",
       "      <td>0.403581</td>\n",
       "      <td>2.095118</td>\n",
       "      <td>92</td>\n",
       "      <td>35.945465</td>\n",
       "      <td>126.683176</td>\n",
       "      <td>0.000000</td>\n",
       "      <td>unknown</td>\n",
       "      <td>unknown</td>\n",
       "    </tr>\n",
       "    <tr>\n",
       "      <th>4</th>\n",
       "      <td>39</td>\n",
       "      <td>GAH0001</td>\n",
       "      <td>2018-07-11 23:17:01</td>\n",
       "      <td>GAH0001-2018-07-11-0000001</td>\n",
       "      <td>5</td>\n",
       "      <td>4.157377</td>\n",
       "      <td>0.633944</td>\n",
       "      <td>3.052400</td>\n",
       "      <td>91</td>\n",
       "      <td>35.945466</td>\n",
       "      <td>126.683177</td>\n",
       "      <td>0.000000</td>\n",
       "      <td>unknown</td>\n",
       "      <td>unknown</td>\n",
       "    </tr>\n",
       "    <tr>\n",
       "      <th>...</th>\n",
       "      <td>...</td>\n",
       "      <td>...</td>\n",
       "      <td>...</td>\n",
       "      <td>...</td>\n",
       "      <td>...</td>\n",
       "      <td>...</td>\n",
       "      <td>...</td>\n",
       "      <td>...</td>\n",
       "      <td>...</td>\n",
       "      <td>...</td>\n",
       "      <td>...</td>\n",
       "      <td>...</td>\n",
       "      <td>...</td>\n",
       "      <td>...</td>\n",
       "    </tr>\n",
       "    <tr>\n",
       "      <th>19455</th>\n",
       "      <td>2719412</td>\n",
       "      <td>GAH0001</td>\n",
       "      <td>2018-12-31 21:44:24</td>\n",
       "      <td>GAH0001-2018-12-31-0000002</td>\n",
       "      <td>114</td>\n",
       "      <td>-4.720439</td>\n",
       "      <td>2.800884</td>\n",
       "      <td>-0.560862</td>\n",
       "      <td>117</td>\n",
       "      <td>35.945177</td>\n",
       "      <td>126.686172</td>\n",
       "      <td>41.349507</td>\n",
       "      <td>WALKING</td>\n",
       "      <td>HIGH</td>\n",
       "    </tr>\n",
       "    <tr>\n",
       "      <th>19456</th>\n",
       "      <td>2719413</td>\n",
       "      <td>GAH0001</td>\n",
       "      <td>2018-12-31 21:44:29</td>\n",
       "      <td>GAH0001-2018-12-31-0000002</td>\n",
       "      <td>115</td>\n",
       "      <td>-0.445301</td>\n",
       "      <td>-0.524375</td>\n",
       "      <td>0.062706</td>\n",
       "      <td>121</td>\n",
       "      <td>35.945191</td>\n",
       "      <td>126.686260</td>\n",
       "      <td>41.352353</td>\n",
       "      <td>WALKING</td>\n",
       "      <td>HIGH</td>\n",
       "    </tr>\n",
       "    <tr>\n",
       "      <th>19457</th>\n",
       "      <td>2719414</td>\n",
       "      <td>GAH0001</td>\n",
       "      <td>2018-12-31 21:44:34</td>\n",
       "      <td>GAH0001-2018-12-31-0000002</td>\n",
       "      <td>116</td>\n",
       "      <td>-3.727133</td>\n",
       "      <td>2.830874</td>\n",
       "      <td>-1.449417</td>\n",
       "      <td>121</td>\n",
       "      <td>35.945230</td>\n",
       "      <td>126.686277</td>\n",
       "      <td>41.352999</td>\n",
       "      <td>WALKING</td>\n",
       "      <td>HIGH</td>\n",
       "    </tr>\n",
       "    <tr>\n",
       "      <th>19458</th>\n",
       "      <td>2719415</td>\n",
       "      <td>GAH0001</td>\n",
       "      <td>2018-12-31 21:44:39</td>\n",
       "      <td>GAH0001-2018-12-31-0000002</td>\n",
       "      <td>117</td>\n",
       "      <td>-4.037821</td>\n",
       "      <td>-0.753595</td>\n",
       "      <td>-5.199213</td>\n",
       "      <td>124</td>\n",
       "      <td>35.945251</td>\n",
       "      <td>126.686210</td>\n",
       "      <td>41.354387</td>\n",
       "      <td>WALKING</td>\n",
       "      <td>HIGH</td>\n",
       "    </tr>\n",
       "    <tr>\n",
       "      <th>19459</th>\n",
       "      <td>2719416</td>\n",
       "      <td>GAH0001</td>\n",
       "      <td>2018-12-31 21:44:44</td>\n",
       "      <td>GAH0001-2018-12-31-0000002</td>\n",
       "      <td>118</td>\n",
       "      <td>-0.972808</td>\n",
       "      <td>5.140090</td>\n",
       "      <td>0.248490</td>\n",
       "      <td>122</td>\n",
       "      <td>35.945303</td>\n",
       "      <td>126.686218</td>\n",
       "      <td>41.354601</td>\n",
       "      <td>WALKING</td>\n",
       "      <td>HIGH</td>\n",
       "    </tr>\n",
       "  </tbody>\n",
       "</table>\n",
       "<p>19460 rows × 14 columns</p>\n",
       "</div>"
      ],
      "text/plain": [
       "            id   userid                time                      set_id  \\\n",
       "0           26  GAH0001 2018-07-11 23:15:56  GAH0001-2018-07-11-0000001   \n",
       "1           29  GAH0001 2018-07-11 23:16:11  GAH0001-2018-07-11-0000001   \n",
       "2           32  GAH0001 2018-07-11 23:16:26  GAH0001-2018-07-11-0000001   \n",
       "3           35  GAH0001 2018-07-11 23:16:41  GAH0001-2018-07-11-0000001   \n",
       "4           39  GAH0001 2018-07-11 23:17:01  GAH0001-2018-07-11-0000001   \n",
       "...        ...      ...                 ...                         ...   \n",
       "19455  2719412  GAH0001 2018-12-31 21:44:24  GAH0001-2018-12-31-0000002   \n",
       "19456  2719413  GAH0001 2018-12-31 21:44:29  GAH0001-2018-12-31-0000002   \n",
       "19457  2719414  GAH0001 2018-12-31 21:44:34  GAH0001-2018-12-31-0000002   \n",
       "19458  2719415  GAH0001 2018-12-31 21:44:39  GAH0001-2018-12-31-0000002   \n",
       "19459  2719416  GAH0001 2018-12-31 21:44:44  GAH0001-2018-12-31-0000002   \n",
       "\n",
       "       set_seq         x         y         z   HR        lat         lon  \\\n",
       "0            1  0.270636 -0.729696  0.032239    0  35.945528  126.683223   \n",
       "1            2  0.231820  3.563033 -1.975855   81  35.945509  126.683209   \n",
       "2            3  1.265328  2.628004 -2.712451   83  35.945468  126.683178   \n",
       "3            4  2.022355  0.403581  2.095118   92  35.945465  126.683176   \n",
       "4            5  4.157377  0.633944  3.052400   91  35.945466  126.683177   \n",
       "...        ...       ...       ...       ...  ...        ...         ...   \n",
       "19455      114 -4.720439  2.800884 -0.560862  117  35.945177  126.686172   \n",
       "19456      115 -0.445301 -0.524375  0.062706  121  35.945191  126.686260   \n",
       "19457      116 -3.727133  2.830874 -1.449417  121  35.945230  126.686277   \n",
       "19458      117 -4.037821 -0.753595 -5.199213  124  35.945251  126.686210   \n",
       "19459      118 -0.972808  5.140090  0.248490  122  35.945303  126.686218   \n",
       "\n",
       "             alt  acttype  actaccu  \n",
       "0       0.000000  unknown  unknown  \n",
       "1       0.000000  unknown  unknown  \n",
       "2       0.000000  unknown  unknown  \n",
       "3       0.000000  unknown  unknown  \n",
       "4       0.000000  unknown  unknown  \n",
       "...          ...      ...      ...  \n",
       "19455  41.349507  WALKING     HIGH  \n",
       "19456  41.352353  WALKING     HIGH  \n",
       "19457  41.352999  WALKING     HIGH  \n",
       "19458  41.354387  WALKING     HIGH  \n",
       "19459  41.354601  WALKING     HIGH  \n",
       "\n",
       "[19460 rows x 14 columns]"
      ]
     },
     "execution_count": 4,
     "metadata": {},
     "output_type": "execute_result"
    }
   ],
   "source": [
    "df1"
   ]
  },
  {
   "cell_type": "code",
   "execution_count": 5,
   "metadata": {},
   "outputs": [],
   "source": [
    "patten1 = []\n",
    "\n",
    "for i in range(len(df1)):\n",
    "    for k in range(grid_size):\n",
    "        for j in range(grid_size):\n",
    "            if x[j] <=  df1['lon'][i] <= x[j+1] and y[k+1] <=  df1['lat'][i] <= y[k]:\n",
    "                patten1.append( grid_size*k + j+1)"
   ]
  },
  {
   "cell_type": "code",
   "execution_count": 6,
   "metadata": {},
   "outputs": [
    {
     "name": "stdout",
     "output_type": "stream",
     "text": [
      "[13, 14, 9, 4, 18, 8, 3, 15, 12, 19, 20, 10, 17, 7, 22, 24, 23]\n"
     ]
    }
   ],
   "source": [
    "new_patten1 = []\n",
    "\n",
    "for i in patten1:\n",
    "    if i not in new_patten1:\n",
    "        new_patten1.append(i)\n",
    "\n",
    "print(new_patten1)"
   ]
  },
  {
   "cell_type": "code",
   "execution_count": 7,
   "metadata": {},
   "outputs": [],
   "source": [
    "all_patten1 = []\n",
    "\n",
    "for i in range(len(new_patten1)):\n",
    "    if i == len(new_patten1)-2:\n",
    "        break\n",
    "    else:\n",
    "        p = [new_patten1[i], new_patten1[i+1], new_patten1[i+2]]\n",
    "        all_patten1.append(p)"
   ]
  },
  {
   "cell_type": "code",
   "execution_count": 8,
   "metadata": {
    "scrolled": true
   },
   "outputs": [
    {
     "data": {
      "text/plain": [
       "[[13, 14, 9],\n",
       " [14, 9, 4],\n",
       " [9, 4, 18],\n",
       " [4, 18, 8],\n",
       " [18, 8, 3],\n",
       " [8, 3, 15],\n",
       " [3, 15, 12],\n",
       " [15, 12, 19],\n",
       " [12, 19, 20],\n",
       " [19, 20, 10],\n",
       " [20, 10, 17],\n",
       " [10, 17, 7],\n",
       " [17, 7, 22],\n",
       " [7, 22, 24],\n",
       " [22, 24, 23]]"
      ]
     },
     "execution_count": 8,
     "metadata": {},
     "output_type": "execute_result"
    }
   ],
   "source": [
    "all_patten1"
   ]
  },
  {
   "cell_type": "code",
   "execution_count": 9,
   "metadata": {},
   "outputs": [],
   "source": [
    "patten2 = []\n",
    "\n",
    "for i in range(len(df2)):\n",
    "    for k in range(grid_size):\n",
    "        for j in range(grid_size):\n",
    "            if x[j] <=  df2['lon'][i] <= x[j+1] and y[k+1] <=  df2['lat'][i] <= y[k]:\n",
    "                patten2.append( grid_size*k + j+1)"
   ]
  },
  {
   "cell_type": "code",
   "execution_count": 10,
   "metadata": {},
   "outputs": [
    {
     "name": "stdout",
     "output_type": "stream",
     "text": [
      "[14, 13, 18, 19, 20, 8, 3, 15, 9, 24, 12, 7, 10, 4, 25, 23, 11, 16, 17, 6, 22]\n"
     ]
    }
   ],
   "source": [
    "new_patten2 = []\n",
    "\n",
    "for i in patten2:\n",
    "    if i not in new_patten2:\n",
    "        new_patten2.append(i)\n",
    "\n",
    "print(new_patten2)"
   ]
  },
  {
   "cell_type": "code",
   "execution_count": 11,
   "metadata": {},
   "outputs": [],
   "source": [
    "all_patten2 = []\n",
    "\n",
    "for i in range(len(new_patten2)):\n",
    "    if i == len(new_patten2)-2:\n",
    "        break\n",
    "    else:\n",
    "        p = [new_patten2[i], new_patten2[i+1], new_patten2[i+2]]\n",
    "        all_patten2.append(p)"
   ]
  },
  {
   "cell_type": "code",
   "execution_count": 12,
   "metadata": {
    "scrolled": true
   },
   "outputs": [
    {
     "data": {
      "text/plain": [
       "[[14, 13, 18],\n",
       " [13, 18, 19],\n",
       " [18, 19, 20],\n",
       " [19, 20, 8],\n",
       " [20, 8, 3],\n",
       " [8, 3, 15],\n",
       " [3, 15, 9],\n",
       " [15, 9, 24],\n",
       " [9, 24, 12],\n",
       " [24, 12, 7],\n",
       " [12, 7, 10],\n",
       " [7, 10, 4],\n",
       " [10, 4, 25],\n",
       " [4, 25, 23],\n",
       " [25, 23, 11],\n",
       " [23, 11, 16],\n",
       " [11, 16, 17],\n",
       " [16, 17, 6],\n",
       " [17, 6, 22]]"
      ]
     },
     "execution_count": 12,
     "metadata": {},
     "output_type": "execute_result"
    }
   ],
   "source": [
    "all_patten2"
   ]
  },
  {
   "cell_type": "code",
   "execution_count": 14,
   "metadata": {},
   "outputs": [
    {
     "data": {
      "text/plain": [
       "[13, 14, 9]"
      ]
     },
     "execution_count": 14,
     "metadata": {},
     "output_type": "execute_result"
    }
   ],
   "source": [
    "all_patten1[0]"
   ]
  },
  {
   "cell_type": "code",
   "execution_count": 20,
   "metadata": {},
   "outputs": [],
   "source": [
    "cnt = 0\n",
    "sim = []\n",
    "for i in range(len(all_patten1)):\n",
    "    cnt = 0\n",
    "    for j in range(len(all_patten2)):\n",
    "        if sorted(all_patten1[i]) == sorted(all_patten2[j]):\n",
    "            cnt+=1\n",
    "    sim.append(cnt)    "
   ]
  },
  {
   "cell_type": "code",
   "execution_count": 21,
   "metadata": {},
   "outputs": [
    {
     "data": {
      "text/plain": [
       "[0, 0, 0, 0, 0, 1, 0, 0, 0, 0, 0, 0, 0, 0, 0]"
      ]
     },
     "execution_count": 21,
     "metadata": {},
     "output_type": "execute_result"
    }
   ],
   "source": [
    "sim"
   ]
  },
  {
   "cell_type": "code",
   "execution_count": 22,
   "metadata": {},
   "outputs": [],
   "source": [
    "patten3 = []\n",
    "\n",
    "for i in range(len(df3)):\n",
    "    for k in range(grid_size):\n",
    "        for j in range(grid_size):\n",
    "            if x[j] <=  df3['lon'][i] <= x[j+1] and y[k+1] <=  df3['lat'][i] <= y[k]:\n",
    "                patten3.append( grid_size*k + j+1)\n",
    "                \n",
    "new_patten3 = []\n",
    "\n",
    "for i in patten3:\n",
    "    if i not in new_patten3:\n",
    "        new_patten3.append(i)\n",
    "\n",
    "all_patten3 = []\n",
    "\n",
    "for i in range(len(new_patten3)):\n",
    "    if i == len(new_patten3)-2:\n",
    "        break\n",
    "    else:\n",
    "        p = [new_patten3[i], new_patten3[i+1], new_patten3[i+2]]\n",
    "        all_patten3.append(p)"
   ]
  },
  {
   "cell_type": "code",
   "execution_count": 23,
   "metadata": {},
   "outputs": [
    {
     "data": {
      "text/plain": [
       "[[13, 14, 18],\n",
       " [14, 18, 8],\n",
       " [18, 8, 3],\n",
       " [8, 3, 9],\n",
       " [3, 9, 15],\n",
       " [9, 15, 4],\n",
       " [15, 4, 10],\n",
       " [4, 10, 20],\n",
       " [10, 20, 19],\n",
       " [20, 19, 17],\n",
       " [19, 17, 12],\n",
       " [17, 12, 24],\n",
       " [12, 24, 7],\n",
       " [24, 7, 22],\n",
       " [7, 22, 21],\n",
       " [22, 21, 25],\n",
       " [21, 25, 5],\n",
       " [25, 5, 23]]"
      ]
     },
     "execution_count": 23,
     "metadata": {},
     "output_type": "execute_result"
    }
   ],
   "source": [
    "all_patten3"
   ]
  },
  {
   "cell_type": "code",
   "execution_count": 24,
   "metadata": {},
   "outputs": [],
   "source": [
    "cnt = 0\n",
    "sim = []\n",
    "for i in range(len(all_patten1)):\n",
    "    cnt = 0\n",
    "    for j in range(len(all_patten3)):\n",
    "        if sorted(all_patten1[i]) == sorted(all_patten3[j]):\n",
    "            cnt+=1\n",
    "    sim.append(cnt)    "
   ]
  },
  {
   "cell_type": "code",
   "execution_count": 25,
   "metadata": {},
   "outputs": [
    {
     "data": {
      "text/plain": [
       "[0, 0, 0, 0, 1, 0, 0, 0, 0, 1, 0, 0, 0, 1, 0]"
      ]
     },
     "execution_count": 25,
     "metadata": {},
     "output_type": "execute_result"
    }
   ],
   "source": [
    "sim"
   ]
  },
  {
   "cell_type": "code",
   "execution_count": null,
   "metadata": {},
   "outputs": [],
   "source": []
  }
 ],
 "metadata": {
  "kernelspec": {
   "display_name": "Python 3",
   "language": "python",
   "name": "python3"
  },
  "language_info": {
   "codemirror_mode": {
    "name": "ipython",
    "version": 3
   },
   "file_extension": ".py",
   "mimetype": "text/x-python",
   "name": "python",
   "nbconvert_exporter": "python",
   "pygments_lexer": "ipython3",
   "version": "3.7.5"
  }
 },
 "nbformat": 4,
 "nbformat_minor": 2
}
